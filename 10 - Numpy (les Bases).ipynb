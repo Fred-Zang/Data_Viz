{
 "cells": [
  {
   "cell_type": "markdown",
   "metadata": {
    "colab_type": "text",
    "id": "view-in-github"
   },
   "source": [
    "<a href=\"https://colab.research.google.com/github/MachineLearnia/Python-Machine-Learning/blob/master/10%20-%20Numpy%20(les%20Bases).ipynb\" target=\"_parent\"><img src=\"https://colab.research.google.com/assets/colab-badge.svg\" alt=\"Open In Colab\"/></a>"
   ]
  },
  {
   "cell_type": "markdown",
   "metadata": {
    "id": "kPpCo82Kj-HT"
   },
   "source": [
    "# 10/30 Numpy : Tableau ndarray"
   ]
  },
  {
   "cell_type": "code",
   "execution_count": 1,
   "metadata": {
    "id": "1pmhE3K-j8uk"
   },
   "outputs": [],
   "source": [
    "import numpy as np"
   ]
  },
  {
   "cell_type": "markdown",
   "metadata": {
    "id": "ueEc8h86slN-"
   },
   "source": [
    "## 1. Générateurs de tableaux **ndarray**\n",
    "- générateur par défaut : **ndarray()**\n",
    "- générateur 1D : **np.linspace** et **np.arange()**\n",
    "- générateur ND : **np.zeros()**, **np.ones()**, **np.random.randn()** (ce sont les plus utiles)"
   ]
  },
  {
   "cell_type": "code",
   "execution_count": 2,
   "metadata": {
    "id": "FAALhYpise2W"
   },
   "outputs": [
    {
     "name": "stdout",
     "output_type": "stream",
     "text": [
      "[[0. 0. 0.]\n",
      " [0. 0. 0.]]\n"
     ]
    }
   ],
   "source": [
    "A = np.array([1, 2, 3]) # générateur par défaut, qui permet de convertir des listes (ou autres objets) en tableau ndarray\n",
    "A = np.zeros((2, 3)) # tableau de 0 aux dimensions 2x3\n",
    "print(A)\n",
    "B = np.ones((2, 3)) # tableau de 1 aux dimensions 2x3\n",
    "C = np.random.randn(2, 3) # tableau aléatoire (distribution normale) aux dimensions 2x3\n",
    "D = np.random.rand(2, 3) # tableau aléatoire (distribution uniforme)\n",
    " \n",
    "E = np.random.randint(0, 10, [2, 3]) # tableau d'entiers aléatoires de 0 a 10 et de dimension 2x3"
   ]
  },
  {
   "cell_type": "code",
   "execution_count": 3,
   "metadata": {
    "id": "qlCQKYHvsij7"
   },
   "outputs": [
    {
     "name": "stderr",
     "output_type": "stream",
     "text": [
      "C:\\Users\\user\\AppData\\Local\\Temp\\ipykernel_3928\\950731242.py:2: DeprecationWarning: `np.bool` is a deprecated alias for the builtin `bool`. To silence this warning, use `bool` by itself. Doing this will not modify any behavior and is safe. If you specifically wanted the numpy scalar type, use `np.bool_` here.\n",
      "Deprecated in NumPy 1.20; for more details and guidance: https://numpy.org/devdocs/release/1.20.0-notes.html#deprecations\n",
      "  B = np.eye(4, dtype=np.bool) # créer une matrice identité et convertit les éléments en type bool.\n"
     ]
    }
   ],
   "source": [
    "A = np.ones((2, 3), dtype=np.float16) # définit le type et la place a occuper sur la mémoire\n",
    "B = np.eye(4, dtype=np.bool) # créer une matrice identité et convertit les éléments en type bool."
   ]
  },
  {
   "cell_type": "code",
   "execution_count": 4,
   "metadata": {
    "id": "2_wG1YYM3cKL"
   },
   "outputs": [
    {
     "name": "stdout",
     "output_type": "stream",
     "text": [
      "[ 1.    3.25  5.5   7.75 10.  ]\n",
      "[0 5]\n"
     ]
    }
   ],
   "source": [
    "A = np.linspace(1, 10, 5)\n",
    "print(A)\n",
    "B = np.arange(0, 10, 5)\n",
    "print(B)"
   ]
  },
  {
   "cell_type": "markdown",
   "metadata": {
    "id": "O0gPhrkatFCq"
   },
   "source": [
    "## 2. Attributs importants\n",
    "- size\n",
    "- shape"
   ]
  },
  {
   "cell_type": "code",
   "execution_count": 5,
   "metadata": {
    "colab": {
     "base_uri": "https://localhost:8080/",
     "height": 85
    },
    "id": "49om7hC7s7PY",
    "outputId": "11656a58-5b8c-4a61-df58-8092d792bbd7"
   },
   "outputs": [
    {
     "name": "stdout",
     "output_type": "stream",
     "text": [
      "6\n",
      "(2, 3)\n",
      "<class 'tuple'>\n",
      "2\n"
     ]
    }
   ],
   "source": [
    "A = np.zeros((2, 3)) # création d'un tableau de shape (2, 3)\n",
    " \n",
    "print(A.size) # le nombre d'éléments dans le tableau A\n",
    "print(A.shape) # les dimensions du tableau A (sous forme de Tuple)\n",
    " \n",
    "print(type(A.shape)) # voici la preuve que la shape est un tuple\n",
    " \n",
    "print(A.shape[0]) # le nombre d'éléments dans la premiere dimension de A"
   ]
  },
  {
   "cell_type": "markdown",
   "metadata": {
    "id": "LJxuYLLptW4U"
   },
   "source": [
    "## 3. Méthodes importantes\n",
    "- **reshape()** : pour redimensionner un tableau\n",
    "- **ravel()** : pour applatir un tableau (qu'il ne fasse plus qu'une dimension)\n",
    "- **squeeze()** : quand une dimension est égale a 1, cette dimension disparait\n",
    "- **concatenate()** : assemble 2 tableaux ensemble selon un axes (existe aussi en hstack et vstack)"
   ]
  },
  {
   "cell_type": "code",
   "execution_count": 6,
   "metadata": {
    "colab": {
     "base_uri": "https://localhost:8080/",
     "height": 68
    },
    "id": "nzys1OiQtTS1",
    "outputId": "894bea04-06a6-4e23-e335-abe43764c7e0"
   },
   "outputs": [
    {
     "data": {
      "text/plain": [
       "array([[0., 0.],\n",
       "       [0., 0.],\n",
       "       [0., 0.]])"
      ]
     },
     "execution_count": 6,
     "metadata": {},
     "output_type": "execute_result"
    }
   ],
   "source": [
    "A = np.zeros((2, 3)) # création d'un tableau de shape (2, 3)\n",
    " \n",
    "A = A.reshape((3, 2)) # redimensionne le tableau A (3 lignes, 2 colonnes)\n",
    "A.ravel() # Aplatit le tableau A (une seule dimension)\n",
    "A.squeeze() # élimine les dimensions \"1\" de A."
   ]
  },
  {
   "cell_type": "code",
   "execution_count": 7,
   "metadata": {
    "colab": {
     "base_uri": "https://localhost:8080/",
     "height": 85
    },
    "id": "1sBGP0vxtlNT",
    "outputId": "7ad91082-e579-4084-c8a8-391f3e25d505"
   },
   "outputs": [
    {
     "data": {
      "text/plain": [
       "array([[0., 0., 0.],\n",
       "       [0., 0., 0.],\n",
       "       [1., 1., 1.],\n",
       "       [1., 1., 1.]])"
      ]
     },
     "execution_count": 7,
     "metadata": {},
     "output_type": "execute_result"
    }
   ],
   "source": [
    "A = np.zeros((2, 3)) # création d'un tableau de shape (2, 3)\n",
    "B = np.ones((2, 3)) # création d'un tableau de shape (2, 3)\n",
    "\n",
    "np.concatenate((A, B), axis=0) # axe 0 : équivalent de np.vstack((A, B))"
   ]
  },
  {
   "cell_type": "code",
   "execution_count": 8,
   "metadata": {
    "colab": {
     "base_uri": "https://localhost:8080/",
     "height": 51
    },
    "id": "Ped85c9YuN5t",
    "outputId": "3b5936d1-b344-40ef-950a-ca44e0c8c09a"
   },
   "outputs": [
    {
     "data": {
      "text/plain": [
       "array([[0., 0., 0., 1., 1., 1.],\n",
       "       [0., 0., 0., 1., 1., 1.]])"
      ]
     },
     "execution_count": 8,
     "metadata": {},
     "output_type": "execute_result"
    }
   ],
   "source": [
    "np.concatenate((A, B), axis=1) # axe 1 : équivalent de np.hstack((A, B))"
   ]
  },
  {
   "cell_type": "markdown",
   "metadata": {
    "id": "PBuUMz7Tu9jK"
   },
   "source": [
    "## 4. Exercice et Solutions"
   ]
  },
  {
   "cell_type": "code",
   "execution_count": 9,
   "metadata": {
    "id": "ZBCmA3ZIuRVt"
   },
   "outputs": [],
   "source": [
    "def initialisation(m, n):\n",
    "    # m : nombre de lignes\n",
    "    # n : nombre de colonnes\n",
    "    # retourne une matrice aléatoire (m, n+1)\n",
    "    # avec une colonne biais (remplie de \"1\") tout a droite\n",
    "\n",
    "    return X"
   ]
  },
  {
   "cell_type": "code",
   "execution_count": 10,
   "metadata": {
    "colab": {
     "base_uri": "https://localhost:8080/",
     "height": 68
    },
    "id": "wm0Z6SqRuhJL",
    "outputId": "385c2ecd-c94d-474c-9365-a4adeac802a2"
   },
   "outputs": [
    {
     "data": {
      "text/plain": [
       "array([[-0.49471115, -0.8481197 , -0.4391063 ,  1.02573248,  1.        ],\n",
       "       [ 0.85470102,  0.66292758,  0.36428705, -0.62454556,  1.        ],\n",
       "       [-0.91239047, -0.67233301, -0.75837831, -0.86947174,  1.        ]])"
      ]
     },
     "execution_count": 10,
     "metadata": {},
     "output_type": "execute_result"
    }
   ],
   "source": [
    "# SOLUTION\n",
    "def initialisation(m, n):\n",
    "    # m : nombre de lignes\n",
    "    # n : nombre de colonnes\n",
    "    # retourne une matrice aléatoire (m, n+1)\n",
    "    # avec une colonne biais (remplie de \"1\") tout a droite\n",
    "    X = np.random.randn(m, n)\n",
    "    X = np.concatenate((X, np.ones((X.shape[0], 1))), axis = 1)\n",
    "\n",
    "    return X\n",
    "\n",
    "initialisation(3, 4)"
   ]
  }
 ],
 "metadata": {
  "colab": {
   "authorship_tag": "ABX9TyOBDpBixGknnBtNmIz7Zvhf",
   "include_colab_link": true,
   "name": "Untitled7.ipynb",
   "provenance": []
  },
  "kernelspec": {
   "display_name": "Python 3 (ipykernel)",
   "language": "python",
   "name": "python3"
  },
  "language_info": {
   "codemirror_mode": {
    "name": "ipython",
    "version": 3
   },
   "file_extension": ".py",
   "mimetype": "text/x-python",
   "name": "python",
   "nbconvert_exporter": "python",
   "pygments_lexer": "ipython3",
   "version": "3.9.13"
  }
 },
 "nbformat": 4,
 "nbformat_minor": 4
}
