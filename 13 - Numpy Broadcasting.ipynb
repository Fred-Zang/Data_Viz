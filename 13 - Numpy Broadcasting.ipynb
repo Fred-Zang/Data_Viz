{
 "cells": [
  {
   "cell_type": "markdown",
   "metadata": {
    "colab_type": "text",
    "id": "view-in-github"
   },
   "source": [
    "<a href=\"https://colab.research.google.com/github/MachineLearnia/Python-Machine-Learning/blob/master/13%20-%20Numpy%20Broadcasting.ipynb\" target=\"_parent\"><img src=\"https://colab.research.google.com/assets/colab-badge.svg\" alt=\"Open In Colab\"/></a>"
   ]
  },
  {
   "cell_type": "markdown",
   "metadata": {
    "colab_type": "text",
    "id": "J5pw0UgX9JnU"
   },
   "source": [
    "## 13/30 Numpy et Broadcasting (extension de matrice)"
   ]
  },
  {
   "cell_type": "code",
   "execution_count": 1,
   "metadata": {
    "colab": {},
    "colab_type": "code",
    "id": "6wGW7Fwh9kic"
   },
   "outputs": [],
   "source": [
    "import numpy as np"
   ]
  },
  {
   "cell_type": "markdown",
   "metadata": {},
   "source": [
    "#### Broacaster une matrice = étendre sa dimension pour réaliser des opération avec une autre matrice - ici A.shape=(n, m) et B.shape=(n', m')\n",
    "#### mais cela peut se faire sous conditions uniquement !\n",
    "#### 1 - (n, m)=(n', m') <=> A.shape = B.shape       ou bien\n",
    "#### 2 - (n, m) et (1, m) ou (n, m) et (n, 1)\n",
    "#### 3 - (n, 1 ) et (1, m) cela étend les 2 tableaux"
   ]
  },
  {
   "cell_type": "code",
   "execution_count": 2,
   "metadata": {
    "colab": {
     "base_uri": "https://localhost:8080/",
     "height": 85
    },
    "colab_type": "code",
    "id": "95_zT3lb9OCl",
    "outputId": "c50c45d6-f2d8-4cad-cde1-e3416ec4d01b"
   },
   "outputs": [
    {
     "name": "stdout",
     "output_type": "stream",
     "text": [
      "[[4. 4. 4.]\n",
      " [4. 4. 4.]] \n",
      "\n",
      "[[2. 2. 2.]\n",
      " [2. 2. 2.]] \n",
      "\n",
      "[[ 2.  5.  8. 10.]\n",
      " [ 2.  5.  8. 10.]\n",
      " [ 2.  5.  8. 10.]] \n",
      "\n",
      "[[2. 2. 2.]\n",
      " [3. 3. 3.]\n",
      " [4. 4. 4.]\n",
      " [5. 5. 5.]] \n",
      "\n"
     ]
    }
   ],
   "source": [
    "A = np.ones((2, 3))  # A.shape=(2, 3) matrice de 1 partout\n",
    "B = 3   # B.shape=(1, 1)\n",
    "print(A+B,'\\n') # on peut donc broadcaster A+B\n",
    " \n",
    "A = np.ones((2, 3))\n",
    "C = np.ones((2, 1)) # C a une colonne, elle sera étendu sur les trois colonnes de A\n",
    "print(A+C,'\\n') # on peut donc broadcaster A+C car il y a une dim=1 dans C\n",
    " \n",
    "A = np.ones((3, 4))\n",
    "B = np.array([1, 4, 7, 9])  # B.shape=(1, 4)\n",
    "print(A+B,'\\n')\n",
    "\n",
    "A = np.ones((4, 3))  # A.shape = (4, 3)\n",
    "B = np.array([[1], [2], [3], [4]])  # B.shape=(4, 1)\n",
    "print(A+B,'\\n')"
   ]
  },
  {
   "cell_type": "code",
   "execution_count": 3,
   "metadata": {},
   "outputs": [
    {
     "name": "stdout",
     "output_type": "stream",
     "text": [
      "[[2. 2. 2. 2.]\n",
      " [2. 2. 2. 2.]\n",
      " [2. 2. 2. 2.]]\n"
     ]
    }
   ],
   "source": [
    "A = np.ones((3, 1))\n",
    "B = np.ones((1, 4))\n",
    "print(A+B)   # extension à un tableau 4x4"
   ]
  },
  {
   "cell_type": "markdown",
   "metadata": {
    "colab": {},
    "colab_type": "code",
    "id": "ilEaxc-M9igj"
   },
   "source": [
    "#### attention au piège si A.shape = (n, )  => il faut faire un reshape de A => (n, 1)"
   ]
  },
  {
   "cell_type": "code",
   "execution_count": 4,
   "metadata": {},
   "outputs": [
    {
     "name": "stdout",
     "output_type": "stream",
     "text": [
      "A= [[1. 1. 1.]] \n",
      " B= [1. 1. 1. 1.] \n",
      "\n"
     ]
    }
   ],
   "source": [
    "A = np.ones((1,3))\n",
    "B = np.ones((4, ))   # numpy considère que 4 est la derniere dim de B d'où 1 ligne et 4 colonnes\n",
    "print(\"A=\", A,'\\n',\"B=\", B,'\\n')"
   ]
  },
  {
   "cell_type": "code",
   "execution_count": 5,
   "metadata": {},
   "outputs": [],
   "source": [
    "## Les calculs A+B peuvent alors être erroné sans s'en apercevoir, il faut donc absolument \n",
    "## toujours vérifier les shapes des tableau et faire un reshape si on voit une dim absente"
   ]
  },
  {
   "cell_type": "code",
   "execution_count": 5,
   "metadata": {},
   "outputs": [
    {
     "name": "stdout",
     "output_type": "stream",
     "text": [
      "(1, 3)\n",
      "(4,)\n"
     ]
    }
   ],
   "source": [
    "print(A.shape)\n",
    "print(B.shape)   # on voit le pb sur B\n"
   ]
  },
  {
   "cell_type": "code",
   "execution_count": 6,
   "metadata": {},
   "outputs": [
    {
     "name": "stdout",
     "output_type": "stream",
     "text": [
      "BxA= [[1. 1. 1.]\n",
      " [1. 1. 1.]\n",
      " [1. 1. 1.]\n",
      " [1. 1. 1.]]\n"
     ]
    }
   ],
   "source": [
    "B = B.reshape((4, 1))   # ici facile pour 4 mais normalement faire B.shape[0] au lieur de 4\n",
    "B.shape\n",
    "print(\"BxA=\", B.dot(A))  # possible maintenant"
   ]
  },
  {
   "cell_type": "code",
   "execution_count": 7,
   "metadata": {},
   "outputs": [],
   "source": [
    "## exemple de bug en ML possible ( extrait 8/10 ML guillaume )"
   ]
  },
  {
   "cell_type": "code",
   "execution_count": 8,
   "metadata": {},
   "outputs": [
    {
     "name": "stdout",
     "output_type": "stream",
     "text": [
      "x.shape = (20, 1) y.shape = (20,)\n"
     ]
    },
    {
     "data": {
      "image/png": "[encoded data removed]",
      "text/plain": [
       "<Figure size 640x480 with 1 Axes>"
      ]
     },
     "metadata": {},
     "output_type": "display_data"
    }
   ],
   "source": [
    "import numpy as np\n",
    "from sklearn.datasets import make_regression    \n",
    "import matplotlib.pyplot as plt\n",
    "\n",
    "np.random.seed(0)\n",
    "x, y = make_regression(n_samples=20, n_features=1, noise=10)\n",
    "plt.scatter(x, y)\n",
    "print(\"x.shape =\", x.shape, \"y.shape =\", y.shape)   # on voit le pb sur y.shape = (100,)"
   ]
  },
  {
   "cell_type": "code",
   "execution_count": 9,
   "metadata": {},
   "outputs": [
    {
     "name": "stdout",
     "output_type": "stream",
     "text": [
      "x =  [[-0.15135721]\n",
      " [ 0.40015721]\n",
      " [ 0.97873798]\n",
      " [-0.85409574]\n",
      " [-0.97727788]\n",
      " [ 0.3130677 ]\n",
      " [-0.10321885]\n",
      " [-0.20515826]\n",
      " [ 0.33367433]\n",
      " [ 1.49407907]\n",
      " [ 0.95008842]\n",
      " [ 0.12167502]\n",
      " [ 1.45427351]\n",
      " [ 1.86755799]\n",
      " [ 0.14404357]\n",
      " [ 0.4105985 ]\n",
      " [ 0.76103773]\n",
      " [ 2.2408932 ]\n",
      " [ 0.44386323]\n",
      " [ 1.76405235]] \n",
      " y =  [-1.69610717 12.54205757 -1.60443615 -5.84638325  1.13431316 -6.37007753\n",
      " 13.1477283  -7.56606655 -0.91184146 23.17198001 10.28925578 15.69897406\n",
      " 22.34013972 24.35056259  7.72931233 21.2363558   0.12694595 26.45696448\n",
      " 24.23776581 25.62265958]\n"
     ]
    }
   ],
   "source": [
    "print(\"x = \", x,'\\n', \"y = \", y)  # x à 20 lignes et 1 colonne, y a 1 ligne et 20 colonnes"
   ]
  },
  {
   "cell_type": "markdown",
   "metadata": {},
   "source": [
    "### on devrait pouvoir faire x - y avec un broadcasting automatique mais ça ne marche pas"
   ]
  },
  {
   "cell_type": "code",
   "execution_count": 10,
   "metadata": {},
   "outputs": [
    {
     "name": "stdout",
     "output_type": "stream",
     "text": [
      "[[ 1.54474996e+00 -1.26934148e+01  1.45307894e+00  5.69502604e+00\n",
      "  -1.28567037e+00  6.21872033e+00 -1.32990855e+01  7.41470934e+00\n",
      "   7.60484255e-01 -2.33233372e+01 -1.04406130e+01 -1.58503313e+01\n",
      "  -2.24914969e+01 -2.45019198e+01 -7.88066953e+00 -2.13877130e+01\n",
      "  -2.78303157e-01 -2.66083217e+01 -2.43891230e+01 -2.57740168e+01]\n",
      " [ 2.09626437e+00 -1.21419004e+01  2.00459336e+00  6.24654046e+00\n",
      "  -7.34155950e-01  6.77023474e+00 -1.27475711e+01  7.96622376e+00\n",
      "   1.31199867e+00 -2.27718228e+01 -9.88909858e+00 -1.52988169e+01\n",
      "  -2.19399825e+01 -2.39504054e+01 -7.32915512e+00 -2.08361986e+01\n",
      "   2.73211260e-01 -2.60568073e+01 -2.38376086e+01 -2.52225024e+01]\n",
      " [ 2.67484515e+00 -1.15633196e+01  2.58317413e+00  6.82512123e+00\n",
      "  -1.55575174e-01  7.34881552e+00 -1.21689903e+01  8.54480453e+00\n",
      "   1.89057945e+00 -2.21932420e+01 -9.31051780e+00 -1.47202361e+01\n",
      "  -2.13614017e+01 -2.33718246e+01 -6.75057434e+00 -2.02576178e+01\n",
      "   8.51792036e-01 -2.54782265e+01 -2.32590278e+01 -2.46439216e+01]\n",
      " [ 8.42011426e-01 -1.33961533e+01  7.50340408e-01  4.99228751e+00\n",
      "  -1.98840890e+00  5.51598179e+00 -1.40018240e+01  6.71197081e+00\n",
      "   5.77457243e-02 -2.40260757e+01 -1.11433515e+01 -1.65530698e+01\n",
      "  -2.31942355e+01 -2.52046583e+01 -8.58340807e+00 -2.20904515e+01\n",
      "  -9.81041688e-01 -2.73110602e+01 -2.50918616e+01 -2.64767553e+01]\n",
      " [ 7.18829285e-01 -1.35193355e+01  6.27158268e-01  4.86910537e+00\n",
      "  -2.11159104e+00  5.39279965e+00 -1.41250062e+01  6.58878867e+00\n",
      "  -6.54364163e-02 -2.41492579e+01 -1.12665337e+01 -1.66762519e+01\n",
      "  -2.33174176e+01 -2.53278405e+01 -8.70659021e+00 -2.22136337e+01\n",
      "  -1.10422383e+00 -2.74342424e+01 -2.52150437e+01 -2.65999375e+01]\n",
      " [ 2.00917487e+00 -1.22289899e+01  1.91750385e+00  6.15945095e+00\n",
      "  -8.21245456e-01  6.68314524e+00 -1.28346606e+01  7.87913425e+00\n",
      "   1.22490917e+00 -2.28589123e+01 -9.97618808e+00 -1.53859064e+01\n",
      "  -2.20270720e+01 -2.40374949e+01 -7.41624462e+00 -2.09232881e+01\n",
      "   1.86121753e-01 -2.61438968e+01 -2.39246981e+01 -2.53095919e+01]\n",
      " [ 1.59288831e+00 -1.26452764e+01  1.50121730e+00  5.74316440e+00\n",
      "  -1.23753201e+00  6.26685868e+00 -1.32509472e+01  7.46284770e+00\n",
      "   8.08622612e-01 -2.32751989e+01 -1.03924746e+01 -1.58021929e+01\n",
      "  -2.24433586e+01 -2.44537814e+01 -7.83253118e+00 -2.13395746e+01\n",
      "  -2.30164800e-01 -2.65601833e+01 -2.43409847e+01 -2.57258784e+01]\n",
      " [ 1.49094890e+00 -1.27472158e+01  1.39927788e+00  5.64122499e+00\n",
      "  -1.33947142e+00  6.16491927e+00 -1.33528866e+01  7.36090829e+00\n",
      "   7.06683200e-01 -2.33771383e+01 -1.04944140e+01 -1.59041323e+01\n",
      "  -2.25452980e+01 -2.45557209e+01 -7.93447059e+00 -2.14415141e+01\n",
      "  -3.32104212e-01 -2.66621227e+01 -2.44429241e+01 -2.58278178e+01]\n",
      " [ 2.02978149e+00 -1.22083832e+01  1.93811048e+00  6.18005758e+00\n",
      "  -8.00638831e-01  6.70375186e+00 -1.28140540e+01  7.89974088e+00\n",
      "   1.24551579e+00 -2.28383057e+01 -9.95558146e+00 -1.53652997e+01\n",
      "  -2.20064654e+01 -2.40168883e+01 -7.39563800e+00 -2.09026815e+01\n",
      "   2.06728379e-01 -2.61232902e+01 -2.39040915e+01 -2.52889853e+01]\n",
      " [ 3.19018624e+00 -1.10479785e+01  3.09851522e+00  7.34046232e+00\n",
      "   3.59765915e-01  7.86415661e+00 -1.16536492e+01  9.06014562e+00\n",
      "   2.40592054e+00 -2.16779009e+01 -8.79517671e+00 -1.42048950e+01\n",
      "  -2.08460606e+01 -2.28564835e+01 -6.23523325e+00 -1.97422767e+01\n",
      "   1.36713312e+00 -2.49628854e+01 -2.27436867e+01 -2.41285805e+01]\n",
      " [ 2.64619558e+00 -1.15919692e+01  2.55452457e+00  6.79647167e+00\n",
      "  -1.84224740e-01  7.32016595e+00 -1.21976399e+01  8.51615497e+00\n",
      "   1.86192988e+00 -2.22218916e+01 -9.33916737e+00 -1.47488856e+01\n",
      "  -2.13900513e+01 -2.34004742e+01 -6.77922391e+00 -2.02862674e+01\n",
      "   8.23142469e-01 -2.55068761e+01 -2.32876774e+01 -2.46725712e+01]\n",
      " [ 1.81778218e+00 -1.24203826e+01  1.72611116e+00  5.96805827e+00\n",
      "  -1.01263814e+00  6.49175255e+00 -1.30260533e+01  7.68774157e+00\n",
      "   1.03351648e+00 -2.30503050e+01 -1.01675808e+01 -1.55772990e+01\n",
      "  -2.22184647e+01 -2.42288876e+01 -7.60763731e+00 -2.11146808e+01\n",
      "  -5.27093189e-03 -2.63352895e+01 -2.41160908e+01 -2.55009846e+01]\n",
      " [ 3.15038067e+00 -1.10877841e+01  3.05870965e+00  7.30065676e+00\n",
      "   3.19960349e-01  7.82435104e+00 -1.16934548e+01  9.02034006e+00\n",
      "   2.36611497e+00 -2.17177065e+01 -8.83498228e+00 -1.42447006e+01\n",
      "  -2.08858662e+01 -2.28962891e+01 -6.27503882e+00 -1.97820823e+01\n",
      "   1.32732756e+00 -2.50026910e+01 -2.27834923e+01 -2.41683861e+01]\n",
      " [ 3.56366516e+00 -1.06744996e+01  3.47199414e+00  7.71394124e+00\n",
      "   7.33244832e-01  8.23763552e+00 -1.12801703e+01  9.43362454e+00\n",
      "   2.77939945e+00 -2.13044220e+01 -8.42169779e+00 -1.38314161e+01\n",
      "  -2.04725817e+01 -2.24830046e+01 -5.86175434e+00 -1.93687978e+01\n",
      "   1.74061204e+00 -2.45894065e+01 -2.23702078e+01 -2.37551016e+01]\n",
      " [ 1.84015074e+00 -1.23980140e+01  1.74847972e+00  5.99042682e+00\n",
      "  -9.90269587e-01  6.51412110e+00 -1.30036847e+01  7.71011012e+00\n",
      "   1.05588503e+00 -2.30279364e+01 -1.01452122e+01 -1.55549305e+01\n",
      "  -2.21960961e+01 -2.42065190e+01 -7.58526875e+00 -2.10923122e+01\n",
      "   1.70976228e-02 -2.63129209e+01 -2.40937222e+01 -2.54786160e+01]\n",
      " [ 2.10670567e+00 -1.21314591e+01  2.01503465e+00  6.25698175e+00\n",
      "  -7.23714656e-01  6.78067604e+00 -1.27371298e+01  7.97666505e+00\n",
      "   1.32243997e+00 -2.27613815e+01 -9.87865728e+00 -1.52883756e+01\n",
      "  -2.19295412e+01 -2.39399641e+01 -7.31871382e+00 -2.08257573e+01\n",
      "   2.83652554e-01 -2.60463660e+01 -2.38271673e+01 -2.52120611e+01]\n",
      " [ 2.45714489e+00 -1.17810198e+01  2.36547387e+00  6.60742097e+00\n",
      "  -3.73275433e-01  7.13111526e+00 -1.23866906e+01  8.32710427e+00\n",
      "   1.67287919e+00 -2.24109423e+01 -9.52821806e+00 -1.49379363e+01\n",
      "  -2.15791020e+01 -2.35895249e+01 -6.96827460e+00 -2.04753181e+01\n",
      "   6.34091777e-01 -2.56959268e+01 -2.34767281e+01 -2.48616219e+01]\n",
      " [ 3.93700036e+00 -1.03011644e+01  3.84532935e+00  8.08727645e+00\n",
      "   1.10658004e+00  8.61097073e+00 -1.09068351e+01  9.80695975e+00\n",
      "   3.15273466e+00 -2.09310868e+01 -8.04836258e+00 -1.34580809e+01\n",
      "  -2.00992465e+01 -2.21096694e+01 -5.48841913e+00 -1.89954626e+01\n",
      "   2.11394725e+00 -2.42160713e+01 -2.19968726e+01 -2.33817664e+01]\n",
      " [ 2.13997040e+00 -1.20981943e+01  2.04829938e+00  6.29024648e+00\n",
      "  -6.90449925e-01  6.81394077e+00 -1.27038651e+01  8.00992978e+00\n",
      "   1.35570470e+00 -2.27281168e+01 -9.84539255e+00 -1.52551108e+01\n",
      "  -2.18962765e+01 -2.39066994e+01 -7.28544909e+00 -2.07924926e+01\n",
      "   3.16917284e-01 -2.60131012e+01 -2.37939026e+01 -2.51787963e+01]\n",
      " [ 3.46015951e+00 -1.07780052e+01  3.36848849e+00  7.61043560e+00\n",
      "   6.29739188e-01  8.13412988e+00 -1.13836760e+01  9.33011890e+00\n",
      "   2.67589381e+00 -2.14079277e+01 -8.52520344e+00 -1.39349217e+01\n",
      "  -2.05760874e+01 -2.25865102e+01 -5.96525998e+00 -1.94723035e+01\n",
      "   1.63710640e+00 -2.46929121e+01 -2.24737135e+01 -2.38586072e+01]]\n"
     ]
    }
   ],
   "source": [
    "print(x-y)  # -> donne un énorme tableau 20x20 au lieu de 20x1"
   ]
  },
  {
   "cell_type": "markdown",
   "metadata": {},
   "source": [
    "### il fallait faire un reshape sur y"
   ]
  },
  {
   "cell_type": "code",
   "execution_count": 11,
   "metadata": {},
   "outputs": [
    {
     "data": {
      "text/plain": [
       "(20, 1)"
      ]
     },
     "execution_count": 11,
     "metadata": {},
     "output_type": "execute_result"
    }
   ],
   "source": [
    "y = y.reshape((y.shape[0], 1))  # importance du y = y... pour réaffecter le reshape à y sinon pb\n",
    "y.shape  # -> (20, 1)"
   ]
  },
  {
   "cell_type": "code",
   "execution_count": 12,
   "metadata": {},
   "outputs": [
    {
     "name": "stdout",
     "output_type": "stream",
     "text": [
      "[[  1.54474996]\n",
      " [-12.14190037]\n",
      " [  2.58317413]\n",
      " [  4.99228751]\n",
      " [ -2.11159104]\n",
      " [  6.68314524]\n",
      " [-13.25094715]\n",
      " [  7.36090829]\n",
      " [  1.24551579]\n",
      " [-21.67790093]\n",
      " [ -9.33916737]\n",
      " [-15.57729905]\n",
      " [-20.88586621]\n",
      " [-22.4830046 ]\n",
      " [ -7.58526875]\n",
      " [-20.8257573 ]\n",
      " [  0.63409178]\n",
      " [-24.21607128]\n",
      " [-23.79390258]\n",
      " [-23.85860723]]\n"
     ]
    }
   ],
   "source": [
    "print(x-y)"
   ]
  }
 ],
 "metadata": {
  "colab": {
   "authorship_tag": "ABX9TyMqarUZc4GHSKvrtaqbcTD+",
   "include_colab_link": true,
   "name": "Untitled10.ipynb",
   "provenance": []
  },
  "kernelspec": {
   "display_name": "Python 3 (ipykernel)",
   "language": "python",
   "name": "python3"
  },
  "language_info": {
   "codemirror_mode": {
    "name": "ipython",
    "version": 3
   },
   "file_extension": ".py",
   "mimetype": "text/x-python",
   "name": "python",
   "nbconvert_exporter": "python",
   "pygments_lexer": "ipython3",
   "version": "3.9.13"
  }
 },
 "nbformat": 4,
 "nbformat_minor": 4
}
